{
  "nbformat": 4,
  "nbformat_minor": 0,
  "metadata": {
    "colab": {
      "provenance": [],
      "gpuType": "T4"
    },
    "kernelspec": {
      "name": "python3",
      "display_name": "Python 3"
    },
    "language_info": {
      "name": "python"
    },
    "accelerator": "GPU"
  },
  "cells": [
    {
      "cell_type": "markdown",
      "source": [
        "#### importing libraries"
      ],
      "metadata": {
        "id": "nJx-kUqCUGMX"
      }
    },
    {
      "cell_type": "code",
      "source": [
        "import numpy as np\n",
        "import pandas as pd\n",
        "import matplotlib.pyplot as plt"
      ],
      "metadata": {
        "id": "uDTHGme0UHq3"
      },
      "execution_count": null,
      "outputs": []
    },
    {
      "cell_type": "code",
      "source": [
        "import torch\n",
        "import torchvision\n",
        "import torchvision.transforms as transforms"
      ],
      "metadata": {
        "id": "4FG6gf8tUvK1"
      },
      "execution_count": null,
      "outputs": []
    },
    {
      "cell_type": "code",
      "source": [
        "import torch.nn as nn\n",
        "import torch.nn.functional as F\n",
        "import torch.optim as optim\n",
        "from torch.utils.data import DataLoader"
      ],
      "metadata": {
        "id": "azqGc1BKUL-n"
      },
      "execution_count": null,
      "outputs": []
    },
    {
      "cell_type": "markdown",
      "source": [
        "#### checking if CUDA is available"
      ],
      "metadata": {
        "id": "jCCGlEF8U4m3"
      }
    },
    {
      "cell_type": "code",
      "source": [
        "if torch.cuda.is_available():\n",
        "    device = torch.device(\"cuda\")\n",
        "else:\n",
        "    device = torch.device(\"cpu\")\n",
        "\n",
        "print(f'Using device: {device}')"
      ],
      "metadata": {
        "colab": {
          "base_uri": "https://localhost:8080/"
        },
        "id": "Uh8ZDF67U6jl",
        "outputId": "99156668-d296-4c7b-aa1b-4afb61df28f6"
      },
      "execution_count": null,
      "outputs": [
        {
          "output_type": "stream",
          "name": "stdout",
          "text": [
            "Using device: cuda\n"
          ]
        }
      ]
    },
    {
      "cell_type": "markdown",
      "source": [
        "#### define data transformations with normalization"
      ],
      "metadata": {
        "id": "eSb-Y7p8VDq9"
      }
    },
    {
      "cell_type": "code",
      "source": [
        "transform = transforms.Compose([\n",
        "    transforms.ToTensor(),\n",
        "    transforms.Normalize((0.5,), (0.5,))\n",
        "])"
      ],
      "metadata": {
        "id": "HjJIlFwnVF5-"
      },
      "execution_count": null,
      "outputs": []
    },
    {
      "cell_type": "markdown",
      "source": [
        "#### loading the training and testing datasets with normalization using PyTorch"
      ],
      "metadata": {
        "id": "eWqdod4MVJdT"
      }
    },
    {
      "cell_type": "code",
      "source": [
        "train_data = torchvision.datasets.MNIST(\n",
        "    root='./data',\n",
        "    train=True,\n",
        "    transform=transform,\n",
        "    download=True\n",
        ")\n",
        "\n",
        "test_data = torchvision.datasets.MNIST(\n",
        "    root='./data',\n",
        "    train=False,\n",
        "    transform=transform,\n",
        "    download=True\n",
        ")\n"
      ],
      "metadata": {
        "id": "0R21StlzVJj6"
      },
      "execution_count": null,
      "outputs": []
    },
    {
      "cell_type": "markdown",
      "source": [
        "#### define data loaders"
      ],
      "metadata": {
        "id": "o0YePJvjWsdH"
      }
    },
    {
      "cell_type": "code",
      "source": [
        "train_loader = DataLoader(\n",
        "    train_data,\n",
        "    batch_size=100,\n",
        "    shuffle=True,\n",
        "    num_workers=1\n",
        ")\n",
        "\n",
        "test_loader = DataLoader(\n",
        "    test_data,\n",
        "    batch_size=100,\n",
        "    shuffle=False,\n",
        "    num_workers=1\n",
        ")\n"
      ],
      "metadata": {
        "id": "o07WNF2yVRJt"
      },
      "execution_count": null,
      "outputs": []
    },
    {
      "cell_type": "markdown",
      "source": [
        "#### define model architecture"
      ],
      "metadata": {
        "id": "D_EtZYhmWyaP"
      }
    },
    {
      "cell_type": "code",
      "source": [
        "class CNN(nn.Module):\n",
        "\n",
        "\n",
        "    def __init__(self):\n",
        "        super(CNN, self).__init__()\n",
        "        self.conv1 = nn.Conv2d(1, 10, kernel_size=5)\n",
        "        self.conv2 = nn.Conv2d(10, 20, kernel_size=5)\n",
        "        self.conv2_drop = nn.Dropout2d()\n",
        "        self.fc1 = nn.Linear(320, 50)\n",
        "        self.fc2 = nn.Linear(50, 10)\n",
        "\n",
        "    def forward(self, x):\n",
        "        x = F.relu(F.max_pool2d(self.conv1(x), 2))\n",
        "        x = F.relu(F.max_pool2d(self.conv2_drop(self.conv2(x)), 2))\n",
        "        x = x.view(-1, 320)\n",
        "        x = F.relu(self.fc1(x))\n",
        "        x = F.dropout(x, training=self.training)\n",
        "        x = self.fc2(x)\n",
        "        return F.softmax(x, dim=1)\n",
        "\n",
        "\n",
        "model = CNN().to(device)\n",
        "optimizer = optim.Adam(model.parameters(), lr=0.001)\n",
        "loss_func = nn.CrossEntropyLoss()"
      ],
      "metadata": {
        "id": "i4_0PV4wWub_"
      },
      "execution_count": null,
      "outputs": []
    },
    {
      "cell_type": "markdown",
      "source": [
        "#### training function"
      ],
      "metadata": {
        "id": "9nk5Fh9KW7qq"
      }
    },
    {
      "cell_type": "code",
      "source": [
        "def train(num_epochs):\n",
        "\n",
        "    train_losses = []\n",
        "    for epoch in range(1, num_epochs + 1):\n",
        "        model.train()\n",
        "        epoch_loss = 0.0\n",
        "\n",
        "        for batch_idx, (data, target) in enumerate(train_loader):\n",
        "            data, target = data.to(device), target.to(device)\n",
        "            optimizer.zero_grad()\n",
        "            output = model(data)\n",
        "            loss = loss_func(output, target)\n",
        "            loss.backward()\n",
        "            optimizer.step()\n",
        "            epoch_loss += loss.item() * data.size(0)\n",
        "\n",
        "            if batch_idx % 20 == 0:\n",
        "                print(f\"Train Epoch: {epoch} [{batch_idx * len(data)}/{len(train_loader.dataset)} \"\n",
        "                      f\"({100. * batch_idx / len(train_loader):.0f}%)]\\tLoss: {loss.item():.6f}\")\n",
        "\n",
        "        train_losses.append(epoch_loss / len(train_loader.dataset))\n",
        "\n",
        "    return train_losses"
      ],
      "metadata": {
        "id": "lWQBn3lyW7zL"
      },
      "execution_count": null,
      "outputs": []
    },
    {
      "cell_type": "markdown",
      "source": [
        "#### test function"
      ],
      "metadata": {
        "id": "-0qlK1yKXEUv"
      }
    },
    {
      "cell_type": "code",
      "source": [
        "def test():\n",
        "\n",
        "    model.eval()\n",
        "    test_loss = 0\n",
        "    correct = 0\n",
        "\n",
        "    with torch.no_grad():\n",
        "        for data, target in test_loader:\n",
        "            data, target = data.to(device), target.to(device)\n",
        "            output = model(data)\n",
        "            test_loss += loss_func(output, target).item()\n",
        "            pred = output.argmax(dim=1, keepdim=True)\n",
        "            correct += pred.eq(target.view_as(pred)).sum().item()\n",
        "\n",
        "    test_loss /= len(test_loader.dataset)\n",
        "    accuracy = 100. * correct / len(test_loader.dataset)\n",
        "    print(f\"\\nTest set: Avg loss: {test_loss:.4f}, Accuracy: {correct}/{len(test_loader.dataset)} \"\n",
        "          f\"({accuracy:.0f}%)\\n\")\n",
        "\n",
        "    return test_loss, accuracy"
      ],
      "metadata": {
        "id": "PhPyaknkXHTS"
      },
      "execution_count": null,
      "outputs": []
    },
    {
      "cell_type": "markdown",
      "source": [
        "#### training and testing"
      ],
      "metadata": {
        "id": "4rVfbiGjXavp"
      }
    },
    {
      "cell_type": "code",
      "source": [
        "# main training and testing loop\n",
        "best_accuracy = 0.0\n",
        "num_epochs = 10\n",
        "\n",
        "train_losses = train(num_epochs)\n",
        "test_loss, accuracy = test()\n",
        "\n",
        "if accuracy > best_accuracy:\n",
        "    best_accuracy = accuracy\n",
        "    torch.save(model.state_dict(), 'best_model.pth')\n",
        "\n",
        "print(f'Best accuracy on test set: {best_accuracy:.2f}%')\n",
        "\n",
        "# graph\n",
        "plt.figure(figsize=(10, 5))\n",
        "plt.plot(range(1, num_epochs + 1), train_losses, label='Training Loss')\n",
        "plt.xlabel('Epochs')\n",
        "plt.ylabel('Loss')\n",
        "plt.title('Training Loss')\n",
        "plt.legend()\n",
        "plt.show()"
      ],
      "metadata": {
        "colab": {
          "base_uri": "https://localhost:8080/",
          "height": 1000
        },
        "id": "q4Qo0Dw_XPya",
        "outputId": "f5db37d8-3461-4de0-c327-aa680231a8e1"
      },
      "execution_count": null,
      "outputs": [
        {
          "output_type": "stream",
          "name": "stdout",
          "text": [
            "Train Epoch: 1 [0/60000 (0%)]\tLoss: 2.303227\n",
            "Train Epoch: 1 [2000/60000 (3%)]\tLoss: 2.283817\n",
            "Train Epoch: 1 [4000/60000 (7%)]\tLoss: 2.120591\n",
            "Train Epoch: 1 [6000/60000 (10%)]\tLoss: 1.969037\n",
            "Train Epoch: 1 [8000/60000 (13%)]\tLoss: 1.772094\n",
            "Train Epoch: 1 [10000/60000 (17%)]\tLoss: 1.787301\n",
            "Train Epoch: 1 [12000/60000 (20%)]\tLoss: 1.786564\n",
            "Train Epoch: 1 [14000/60000 (23%)]\tLoss: 1.772105\n",
            "Train Epoch: 1 [16000/60000 (27%)]\tLoss: 1.667334\n",
            "Train Epoch: 1 [18000/60000 (30%)]\tLoss: 1.730286\n",
            "Train Epoch: 1 [20000/60000 (33%)]\tLoss: 1.625943\n",
            "Train Epoch: 1 [22000/60000 (37%)]\tLoss: 1.613075\n",
            "Train Epoch: 1 [24000/60000 (40%)]\tLoss: 1.678206\n",
            "Train Epoch: 1 [26000/60000 (43%)]\tLoss: 1.673688\n",
            "Train Epoch: 1 [28000/60000 (47%)]\tLoss: 1.660895\n",
            "Train Epoch: 1 [30000/60000 (50%)]\tLoss: 1.632331\n",
            "Train Epoch: 1 [32000/60000 (53%)]\tLoss: 1.620585\n",
            "Train Epoch: 1 [34000/60000 (57%)]\tLoss: 1.591347\n",
            "Train Epoch: 1 [36000/60000 (60%)]\tLoss: 1.598684\n",
            "Train Epoch: 1 [38000/60000 (63%)]\tLoss: 1.629407\n",
            "Train Epoch: 1 [40000/60000 (67%)]\tLoss: 1.577959\n",
            "Train Epoch: 1 [42000/60000 (70%)]\tLoss: 1.559927\n",
            "Train Epoch: 1 [44000/60000 (73%)]\tLoss: 1.638427\n",
            "Train Epoch: 1 [46000/60000 (77%)]\tLoss: 1.552930\n",
            "Train Epoch: 1 [48000/60000 (80%)]\tLoss: 1.591486\n",
            "Train Epoch: 1 [50000/60000 (83%)]\tLoss: 1.589262\n",
            "Train Epoch: 1 [52000/60000 (87%)]\tLoss: 1.563392\n",
            "Train Epoch: 1 [54000/60000 (90%)]\tLoss: 1.599879\n",
            "Train Epoch: 1 [56000/60000 (93%)]\tLoss: 1.558079\n",
            "Train Epoch: 1 [58000/60000 (97%)]\tLoss: 1.577567\n",
            "Train Epoch: 2 [0/60000 (0%)]\tLoss: 1.551248\n",
            "Train Epoch: 2 [2000/60000 (3%)]\tLoss: 1.558616\n",
            "Train Epoch: 2 [4000/60000 (7%)]\tLoss: 1.555840\n",
            "Train Epoch: 2 [6000/60000 (10%)]\tLoss: 1.545173\n",
            "Train Epoch: 2 [8000/60000 (13%)]\tLoss: 1.552902\n",
            "Train Epoch: 2 [10000/60000 (17%)]\tLoss: 1.601127\n",
            "Train Epoch: 2 [12000/60000 (20%)]\tLoss: 1.554531\n",
            "Train Epoch: 2 [14000/60000 (23%)]\tLoss: 1.560180\n",
            "Train Epoch: 2 [16000/60000 (27%)]\tLoss: 1.592393\n",
            "Train Epoch: 2 [18000/60000 (30%)]\tLoss: 1.535316\n",
            "Train Epoch: 2 [20000/60000 (33%)]\tLoss: 1.612216\n",
            "Train Epoch: 2 [22000/60000 (37%)]\tLoss: 1.575538\n",
            "Train Epoch: 2 [24000/60000 (40%)]\tLoss: 1.542436\n",
            "Train Epoch: 2 [26000/60000 (43%)]\tLoss: 1.584213\n",
            "Train Epoch: 2 [28000/60000 (47%)]\tLoss: 1.573448\n",
            "Train Epoch: 2 [30000/60000 (50%)]\tLoss: 1.527190\n",
            "Train Epoch: 2 [32000/60000 (53%)]\tLoss: 1.593755\n",
            "Train Epoch: 2 [34000/60000 (57%)]\tLoss: 1.558688\n",
            "Train Epoch: 2 [36000/60000 (60%)]\tLoss: 1.600108\n",
            "Train Epoch: 2 [38000/60000 (63%)]\tLoss: 1.519375\n",
            "Train Epoch: 2 [40000/60000 (67%)]\tLoss: 1.551928\n",
            "Train Epoch: 2 [42000/60000 (70%)]\tLoss: 1.568564\n",
            "Train Epoch: 2 [44000/60000 (73%)]\tLoss: 1.545663\n",
            "Train Epoch: 2 [46000/60000 (77%)]\tLoss: 1.535356\n",
            "Train Epoch: 2 [48000/60000 (80%)]\tLoss: 1.545779\n",
            "Train Epoch: 2 [50000/60000 (83%)]\tLoss: 1.541042\n",
            "Train Epoch: 2 [52000/60000 (87%)]\tLoss: 1.547358\n",
            "Train Epoch: 2 [54000/60000 (90%)]\tLoss: 1.595467\n",
            "Train Epoch: 2 [56000/60000 (93%)]\tLoss: 1.579520\n",
            "Train Epoch: 2 [58000/60000 (97%)]\tLoss: 1.534694\n",
            "Train Epoch: 3 [0/60000 (0%)]\tLoss: 1.605068\n",
            "Train Epoch: 3 [2000/60000 (3%)]\tLoss: 1.545837\n",
            "Train Epoch: 3 [4000/60000 (7%)]\tLoss: 1.541859\n",
            "Train Epoch: 3 [6000/60000 (10%)]\tLoss: 1.516670\n",
            "Train Epoch: 3 [8000/60000 (13%)]\tLoss: 1.540607\n",
            "Train Epoch: 3 [10000/60000 (17%)]\tLoss: 1.560397\n",
            "Train Epoch: 3 [12000/60000 (20%)]\tLoss: 1.559654\n",
            "Train Epoch: 3 [14000/60000 (23%)]\tLoss: 1.519703\n",
            "Train Epoch: 3 [16000/60000 (27%)]\tLoss: 1.522638\n",
            "Train Epoch: 3 [18000/60000 (30%)]\tLoss: 1.504140\n",
            "Train Epoch: 3 [20000/60000 (33%)]\tLoss: 1.573475\n",
            "Train Epoch: 3 [22000/60000 (37%)]\tLoss: 1.541901\n",
            "Train Epoch: 3 [24000/60000 (40%)]\tLoss: 1.559706\n",
            "Train Epoch: 3 [26000/60000 (43%)]\tLoss: 1.539511\n",
            "Train Epoch: 3 [28000/60000 (47%)]\tLoss: 1.535605\n",
            "Train Epoch: 3 [30000/60000 (50%)]\tLoss: 1.513609\n",
            "Train Epoch: 3 [32000/60000 (53%)]\tLoss: 1.555467\n",
            "Train Epoch: 3 [34000/60000 (57%)]\tLoss: 1.554802\n",
            "Train Epoch: 3 [36000/60000 (60%)]\tLoss: 1.603811\n",
            "Train Epoch: 3 [38000/60000 (63%)]\tLoss: 1.554175\n",
            "Train Epoch: 3 [40000/60000 (67%)]\tLoss: 1.518335\n",
            "Train Epoch: 3 [42000/60000 (70%)]\tLoss: 1.511374\n",
            "Train Epoch: 3 [44000/60000 (73%)]\tLoss: 1.543903\n",
            "Train Epoch: 3 [46000/60000 (77%)]\tLoss: 1.515087\n",
            "Train Epoch: 3 [48000/60000 (80%)]\tLoss: 1.552275\n",
            "Train Epoch: 3 [50000/60000 (83%)]\tLoss: 1.532956\n",
            "Train Epoch: 3 [52000/60000 (87%)]\tLoss: 1.498313\n",
            "Train Epoch: 3 [54000/60000 (90%)]\tLoss: 1.544899\n",
            "Train Epoch: 3 [56000/60000 (93%)]\tLoss: 1.556521\n",
            "Train Epoch: 3 [58000/60000 (97%)]\tLoss: 1.533366\n",
            "Train Epoch: 4 [0/60000 (0%)]\tLoss: 1.536980\n",
            "Train Epoch: 4 [2000/60000 (3%)]\tLoss: 1.547637\n",
            "Train Epoch: 4 [4000/60000 (7%)]\tLoss: 1.524992\n",
            "Train Epoch: 4 [6000/60000 (10%)]\tLoss: 1.583387\n",
            "Train Epoch: 4 [8000/60000 (13%)]\tLoss: 1.579592\n",
            "Train Epoch: 4 [10000/60000 (17%)]\tLoss: 1.546165\n",
            "Train Epoch: 4 [12000/60000 (20%)]\tLoss: 1.561157\n",
            "Train Epoch: 4 [14000/60000 (23%)]\tLoss: 1.522899\n",
            "Train Epoch: 4 [16000/60000 (27%)]\tLoss: 1.506946\n",
            "Train Epoch: 4 [18000/60000 (30%)]\tLoss: 1.538835\n",
            "Train Epoch: 4 [20000/60000 (33%)]\tLoss: 1.499440\n",
            "Train Epoch: 4 [22000/60000 (37%)]\tLoss: 1.532387\n",
            "Train Epoch: 4 [24000/60000 (40%)]\tLoss: 1.543203\n",
            "Train Epoch: 4 [26000/60000 (43%)]\tLoss: 1.529484\n",
            "Train Epoch: 4 [28000/60000 (47%)]\tLoss: 1.505498\n",
            "Train Epoch: 4 [30000/60000 (50%)]\tLoss: 1.542497\n",
            "Train Epoch: 4 [32000/60000 (53%)]\tLoss: 1.560655\n",
            "Train Epoch: 4 [34000/60000 (57%)]\tLoss: 1.544693\n",
            "Train Epoch: 4 [36000/60000 (60%)]\tLoss: 1.527147\n",
            "Train Epoch: 4 [38000/60000 (63%)]\tLoss: 1.499724\n",
            "Train Epoch: 4 [40000/60000 (67%)]\tLoss: 1.538372\n",
            "Train Epoch: 4 [42000/60000 (70%)]\tLoss: 1.520966\n",
            "Train Epoch: 4 [44000/60000 (73%)]\tLoss: 1.537131\n",
            "Train Epoch: 4 [46000/60000 (77%)]\tLoss: 1.564146\n",
            "Train Epoch: 4 [48000/60000 (80%)]\tLoss: 1.517018\n",
            "Train Epoch: 4 [50000/60000 (83%)]\tLoss: 1.549796\n",
            "Train Epoch: 4 [52000/60000 (87%)]\tLoss: 1.506780\n",
            "Train Epoch: 4 [54000/60000 (90%)]\tLoss: 1.564325\n",
            "Train Epoch: 4 [56000/60000 (93%)]\tLoss: 1.538860\n",
            "Train Epoch: 4 [58000/60000 (97%)]\tLoss: 1.519709\n",
            "Train Epoch: 5 [0/60000 (0%)]\tLoss: 1.556515\n",
            "Train Epoch: 5 [2000/60000 (3%)]\tLoss: 1.525840\n",
            "Train Epoch: 5 [4000/60000 (7%)]\tLoss: 1.545139\n",
            "Train Epoch: 5 [6000/60000 (10%)]\tLoss: 1.508963\n",
            "Train Epoch: 5 [8000/60000 (13%)]\tLoss: 1.542816\n",
            "Train Epoch: 5 [10000/60000 (17%)]\tLoss: 1.498228\n",
            "Train Epoch: 5 [12000/60000 (20%)]\tLoss: 1.531389\n",
            "Train Epoch: 5 [14000/60000 (23%)]\tLoss: 1.537474\n",
            "Train Epoch: 5 [16000/60000 (27%)]\tLoss: 1.540968\n",
            "Train Epoch: 5 [18000/60000 (30%)]\tLoss: 1.548261\n",
            "Train Epoch: 5 [20000/60000 (33%)]\tLoss: 1.539912\n",
            "Train Epoch: 5 [22000/60000 (37%)]\tLoss: 1.537766\n",
            "Train Epoch: 5 [24000/60000 (40%)]\tLoss: 1.507482\n",
            "Train Epoch: 5 [26000/60000 (43%)]\tLoss: 1.530189\n",
            "Train Epoch: 5 [28000/60000 (47%)]\tLoss: 1.494683\n",
            "Train Epoch: 5 [30000/60000 (50%)]\tLoss: 1.547558\n",
            "Train Epoch: 5 [32000/60000 (53%)]\tLoss: 1.523265\n",
            "Train Epoch: 5 [34000/60000 (57%)]\tLoss: 1.513673\n",
            "Train Epoch: 5 [36000/60000 (60%)]\tLoss: 1.498571\n",
            "Train Epoch: 5 [38000/60000 (63%)]\tLoss: 1.513462\n",
            "Train Epoch: 5 [40000/60000 (67%)]\tLoss: 1.512992\n",
            "Train Epoch: 5 [42000/60000 (70%)]\tLoss: 1.555318\n",
            "Train Epoch: 5 [44000/60000 (73%)]\tLoss: 1.539025\n",
            "Train Epoch: 5 [46000/60000 (77%)]\tLoss: 1.533664\n",
            "Train Epoch: 5 [48000/60000 (80%)]\tLoss: 1.524721\n",
            "Train Epoch: 5 [50000/60000 (83%)]\tLoss: 1.533035\n",
            "Train Epoch: 5 [52000/60000 (87%)]\tLoss: 1.513165\n",
            "Train Epoch: 5 [54000/60000 (90%)]\tLoss: 1.537396\n",
            "Train Epoch: 5 [56000/60000 (93%)]\tLoss: 1.595486\n",
            "Train Epoch: 5 [58000/60000 (97%)]\tLoss: 1.512061\n",
            "Train Epoch: 6 [0/60000 (0%)]\tLoss: 1.528305\n",
            "Train Epoch: 6 [2000/60000 (3%)]\tLoss: 1.555710\n",
            "Train Epoch: 6 [4000/60000 (7%)]\tLoss: 1.488868\n",
            "Train Epoch: 6 [6000/60000 (10%)]\tLoss: 1.516788\n",
            "Train Epoch: 6 [8000/60000 (13%)]\tLoss: 1.483090\n",
            "Train Epoch: 6 [10000/60000 (17%)]\tLoss: 1.512546\n",
            "Train Epoch: 6 [12000/60000 (20%)]\tLoss: 1.511771\n",
            "Train Epoch: 6 [14000/60000 (23%)]\tLoss: 1.486805\n",
            "Train Epoch: 6 [16000/60000 (27%)]\tLoss: 1.505032\n",
            "Train Epoch: 6 [18000/60000 (30%)]\tLoss: 1.537440\n",
            "Train Epoch: 6 [20000/60000 (33%)]\tLoss: 1.492456\n",
            "Train Epoch: 6 [22000/60000 (37%)]\tLoss: 1.516944\n",
            "Train Epoch: 6 [24000/60000 (40%)]\tLoss: 1.524065\n",
            "Train Epoch: 6 [26000/60000 (43%)]\tLoss: 1.502582\n",
            "Train Epoch: 6 [28000/60000 (47%)]\tLoss: 1.590256\n",
            "Train Epoch: 6 [30000/60000 (50%)]\tLoss: 1.509707\n",
            "Train Epoch: 6 [32000/60000 (53%)]\tLoss: 1.511396\n",
            "Train Epoch: 6 [34000/60000 (57%)]\tLoss: 1.547040\n",
            "Train Epoch: 6 [36000/60000 (60%)]\tLoss: 1.530652\n",
            "Train Epoch: 6 [38000/60000 (63%)]\tLoss: 1.519404\n",
            "Train Epoch: 6 [40000/60000 (67%)]\tLoss: 1.509051\n",
            "Train Epoch: 6 [42000/60000 (70%)]\tLoss: 1.500457\n",
            "Train Epoch: 6 [44000/60000 (73%)]\tLoss: 1.491660\n",
            "Train Epoch: 6 [46000/60000 (77%)]\tLoss: 1.521659\n",
            "Train Epoch: 6 [48000/60000 (80%)]\tLoss: 1.517790\n",
            "Train Epoch: 6 [50000/60000 (83%)]\tLoss: 1.536238\n",
            "Train Epoch: 6 [52000/60000 (87%)]\tLoss: 1.541451\n",
            "Train Epoch: 6 [54000/60000 (90%)]\tLoss: 1.516317\n",
            "Train Epoch: 6 [56000/60000 (93%)]\tLoss: 1.498882\n",
            "Train Epoch: 6 [58000/60000 (97%)]\tLoss: 1.510196\n",
            "Train Epoch: 7 [0/60000 (0%)]\tLoss: 1.509857\n",
            "Train Epoch: 7 [2000/60000 (3%)]\tLoss: 1.528582\n",
            "Train Epoch: 7 [4000/60000 (7%)]\tLoss: 1.531725\n",
            "Train Epoch: 7 [6000/60000 (10%)]\tLoss: 1.521838\n",
            "Train Epoch: 7 [8000/60000 (13%)]\tLoss: 1.484531\n",
            "Train Epoch: 7 [10000/60000 (17%)]\tLoss: 1.512415\n",
            "Train Epoch: 7 [12000/60000 (20%)]\tLoss: 1.521422\n",
            "Train Epoch: 7 [14000/60000 (23%)]\tLoss: 1.550524\n",
            "Train Epoch: 7 [16000/60000 (27%)]\tLoss: 1.492409\n",
            "Train Epoch: 7 [18000/60000 (30%)]\tLoss: 1.568715\n",
            "Train Epoch: 7 [20000/60000 (33%)]\tLoss: 1.538088\n",
            "Train Epoch: 7 [22000/60000 (37%)]\tLoss: 1.514115\n",
            "Train Epoch: 7 [24000/60000 (40%)]\tLoss: 1.504954\n",
            "Train Epoch: 7 [26000/60000 (43%)]\tLoss: 1.513814\n",
            "Train Epoch: 7 [28000/60000 (47%)]\tLoss: 1.504282\n",
            "Train Epoch: 7 [30000/60000 (50%)]\tLoss: 1.505542\n",
            "Train Epoch: 7 [32000/60000 (53%)]\tLoss: 1.478013\n",
            "Train Epoch: 7 [34000/60000 (57%)]\tLoss: 1.532245\n",
            "Train Epoch: 7 [36000/60000 (60%)]\tLoss: 1.536024\n",
            "Train Epoch: 7 [38000/60000 (63%)]\tLoss: 1.531992\n",
            "Train Epoch: 7 [40000/60000 (67%)]\tLoss: 1.477621\n",
            "Train Epoch: 7 [42000/60000 (70%)]\tLoss: 1.509259\n",
            "Train Epoch: 7 [44000/60000 (73%)]\tLoss: 1.490362\n",
            "Train Epoch: 7 [46000/60000 (77%)]\tLoss: 1.503382\n",
            "Train Epoch: 7 [48000/60000 (80%)]\tLoss: 1.533882\n",
            "Train Epoch: 7 [50000/60000 (83%)]\tLoss: 1.491924\n",
            "Train Epoch: 7 [52000/60000 (87%)]\tLoss: 1.528343\n",
            "Train Epoch: 7 [54000/60000 (90%)]\tLoss: 1.518011\n",
            "Train Epoch: 7 [56000/60000 (93%)]\tLoss: 1.575258\n",
            "Train Epoch: 7 [58000/60000 (97%)]\tLoss: 1.513824\n",
            "Train Epoch: 8 [0/60000 (0%)]\tLoss: 1.562011\n",
            "Train Epoch: 8 [2000/60000 (3%)]\tLoss: 1.530988\n",
            "Train Epoch: 8 [4000/60000 (7%)]\tLoss: 1.544623\n",
            "Train Epoch: 8 [6000/60000 (10%)]\tLoss: 1.510264\n",
            "Train Epoch: 8 [8000/60000 (13%)]\tLoss: 1.518270\n",
            "Train Epoch: 8 [10000/60000 (17%)]\tLoss: 1.515620\n",
            "Train Epoch: 8 [12000/60000 (20%)]\tLoss: 1.519650\n",
            "Train Epoch: 8 [14000/60000 (23%)]\tLoss: 1.505588\n",
            "Train Epoch: 8 [16000/60000 (27%)]\tLoss: 1.513240\n",
            "Train Epoch: 8 [18000/60000 (30%)]\tLoss: 1.570240\n",
            "Train Epoch: 8 [20000/60000 (33%)]\tLoss: 1.538258\n",
            "Train Epoch: 8 [22000/60000 (37%)]\tLoss: 1.518681\n",
            "Train Epoch: 8 [24000/60000 (40%)]\tLoss: 1.513669\n",
            "Train Epoch: 8 [26000/60000 (43%)]\tLoss: 1.497618\n",
            "Train Epoch: 8 [28000/60000 (47%)]\tLoss: 1.497668\n",
            "Train Epoch: 8 [30000/60000 (50%)]\tLoss: 1.528453\n",
            "Train Epoch: 8 [32000/60000 (53%)]\tLoss: 1.545895\n",
            "Train Epoch: 8 [34000/60000 (57%)]\tLoss: 1.490776\n",
            "Train Epoch: 8 [36000/60000 (60%)]\tLoss: 1.500736\n",
            "Train Epoch: 8 [38000/60000 (63%)]\tLoss: 1.543386\n",
            "Train Epoch: 8 [40000/60000 (67%)]\tLoss: 1.506361\n",
            "Train Epoch: 8 [42000/60000 (70%)]\tLoss: 1.513268\n",
            "Train Epoch: 8 [44000/60000 (73%)]\tLoss: 1.504867\n",
            "Train Epoch: 8 [46000/60000 (77%)]\tLoss: 1.504845\n",
            "Train Epoch: 8 [48000/60000 (80%)]\tLoss: 1.546733\n",
            "Train Epoch: 8 [50000/60000 (83%)]\tLoss: 1.515331\n",
            "Train Epoch: 8 [52000/60000 (87%)]\tLoss: 1.483204\n",
            "Train Epoch: 8 [54000/60000 (90%)]\tLoss: 1.522889\n",
            "Train Epoch: 8 [56000/60000 (93%)]\tLoss: 1.510412\n",
            "Train Epoch: 8 [58000/60000 (97%)]\tLoss: 1.522806\n",
            "Train Epoch: 9 [0/60000 (0%)]\tLoss: 1.491198\n",
            "Train Epoch: 9 [2000/60000 (3%)]\tLoss: 1.499167\n",
            "Train Epoch: 9 [4000/60000 (7%)]\tLoss: 1.498533\n",
            "Train Epoch: 9 [6000/60000 (10%)]\tLoss: 1.520272\n",
            "Train Epoch: 9 [8000/60000 (13%)]\tLoss: 1.478534\n",
            "Train Epoch: 9 [10000/60000 (17%)]\tLoss: 1.522541\n",
            "Train Epoch: 9 [12000/60000 (20%)]\tLoss: 1.514263\n",
            "Train Epoch: 9 [14000/60000 (23%)]\tLoss: 1.474248\n",
            "Train Epoch: 9 [16000/60000 (27%)]\tLoss: 1.498324\n",
            "Train Epoch: 9 [18000/60000 (30%)]\tLoss: 1.509410\n",
            "Train Epoch: 9 [20000/60000 (33%)]\tLoss: 1.555945\n",
            "Train Epoch: 9 [22000/60000 (37%)]\tLoss: 1.516846\n",
            "Train Epoch: 9 [24000/60000 (40%)]\tLoss: 1.506729\n",
            "Train Epoch: 9 [26000/60000 (43%)]\tLoss: 1.511047\n",
            "Train Epoch: 9 [28000/60000 (47%)]\tLoss: 1.507156\n",
            "Train Epoch: 9 [30000/60000 (50%)]\tLoss: 1.518989\n",
            "Train Epoch: 9 [32000/60000 (53%)]\tLoss: 1.488545\n",
            "Train Epoch: 9 [34000/60000 (57%)]\tLoss: 1.518518\n",
            "Train Epoch: 9 [36000/60000 (60%)]\tLoss: 1.519529\n",
            "Train Epoch: 9 [38000/60000 (63%)]\tLoss: 1.489647\n",
            "Train Epoch: 9 [40000/60000 (67%)]\tLoss: 1.489433\n",
            "Train Epoch: 9 [42000/60000 (70%)]\tLoss: 1.537589\n",
            "Train Epoch: 9 [44000/60000 (73%)]\tLoss: 1.530916\n",
            "Train Epoch: 9 [46000/60000 (77%)]\tLoss: 1.545047\n",
            "Train Epoch: 9 [48000/60000 (80%)]\tLoss: 1.507933\n",
            "Train Epoch: 9 [50000/60000 (83%)]\tLoss: 1.504246\n",
            "Train Epoch: 9 [52000/60000 (87%)]\tLoss: 1.494632\n",
            "Train Epoch: 9 [54000/60000 (90%)]\tLoss: 1.553299\n",
            "Train Epoch: 9 [56000/60000 (93%)]\tLoss: 1.554633\n",
            "Train Epoch: 9 [58000/60000 (97%)]\tLoss: 1.529106\n",
            "Train Epoch: 10 [0/60000 (0%)]\tLoss: 1.496064\n",
            "Train Epoch: 10 [2000/60000 (3%)]\tLoss: 1.503888\n",
            "Train Epoch: 10 [4000/60000 (7%)]\tLoss: 1.535110\n",
            "Train Epoch: 10 [6000/60000 (10%)]\tLoss: 1.505930\n",
            "Train Epoch: 10 [8000/60000 (13%)]\tLoss: 1.531922\n",
            "Train Epoch: 10 [10000/60000 (17%)]\tLoss: 1.511288\n",
            "Train Epoch: 10 [12000/60000 (20%)]\tLoss: 1.539049\n",
            "Train Epoch: 10 [14000/60000 (23%)]\tLoss: 1.483911\n",
            "Train Epoch: 10 [16000/60000 (27%)]\tLoss: 1.497889\n",
            "Train Epoch: 10 [18000/60000 (30%)]\tLoss: 1.509580\n",
            "Train Epoch: 10 [20000/60000 (33%)]\tLoss: 1.506051\n",
            "Train Epoch: 10 [22000/60000 (37%)]\tLoss: 1.501786\n",
            "Train Epoch: 10 [24000/60000 (40%)]\tLoss: 1.541479\n",
            "Train Epoch: 10 [26000/60000 (43%)]\tLoss: 1.536602\n",
            "Train Epoch: 10 [28000/60000 (47%)]\tLoss: 1.512558\n",
            "Train Epoch: 10 [30000/60000 (50%)]\tLoss: 1.519846\n",
            "Train Epoch: 10 [32000/60000 (53%)]\tLoss: 1.519282\n",
            "Train Epoch: 10 [34000/60000 (57%)]\tLoss: 1.528561\n",
            "Train Epoch: 10 [36000/60000 (60%)]\tLoss: 1.514560\n",
            "Train Epoch: 10 [38000/60000 (63%)]\tLoss: 1.489662\n",
            "Train Epoch: 10 [40000/60000 (67%)]\tLoss: 1.491214\n",
            "Train Epoch: 10 [42000/60000 (70%)]\tLoss: 1.578288\n",
            "Train Epoch: 10 [44000/60000 (73%)]\tLoss: 1.531774\n",
            "Train Epoch: 10 [46000/60000 (77%)]\tLoss: 1.498146\n",
            "Train Epoch: 10 [48000/60000 (80%)]\tLoss: 1.523259\n",
            "Train Epoch: 10 [50000/60000 (83%)]\tLoss: 1.565211\n",
            "Train Epoch: 10 [52000/60000 (87%)]\tLoss: 1.509276\n",
            "Train Epoch: 10 [54000/60000 (90%)]\tLoss: 1.511385\n",
            "Train Epoch: 10 [56000/60000 (93%)]\tLoss: 1.530005\n",
            "Train Epoch: 10 [58000/60000 (97%)]\tLoss: 1.508134\n",
            "\n",
            "Test set: Avg loss: 0.0148, Accuracy: 9788/10000 (98%)\n",
            "\n",
            "Best accuracy on test set: 97.88%\n"
          ]
        },
        {
          "output_type": "display_data",
          "data": {
            "text/plain": [
              "<Figure size 1000x500 with 1 Axes>"
            ],
            "image/png": "[encoded data removed]"
          },
          "metadata": {}
        }
      ]
    },
    {
      "cell_type": "code",
      "source": [],
      "metadata": {
        "id": "fefgqOrfXfom"
      },
      "execution_count": null,
      "outputs": []
    }
  ]
}